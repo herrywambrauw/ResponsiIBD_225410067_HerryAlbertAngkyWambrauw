{
 "cells": [
  {
   "cell_type": "markdown",
   "id": "ac576ed1",
   "metadata": {},
   "source": [
    "### Membuat Spark Session di PySpark untuk Pemrosesan Data Lokal"
   ]
  },
  {
   "cell_type": "code",
   "execution_count": 1,
   "id": "2e50d40e",
   "metadata": {},
   "outputs": [],
   "source": [
    "from pyspark.sql import SparkSession\n",
    "Spark = SparkSession.builder.master(\"local[*]\").getOrCreate()"
   ]
  },
  {
   "cell_type": "markdown",
   "id": "26e9a66f",
   "metadata": {},
   "source": [
    "### Mengimpor Data dari CSV ke Spark DataFrame di PySpark"
   ]
  },
  {
   "cell_type": "code",
   "execution_count": 2,
   "id": "57f4bdd9",
   "metadata": {},
   "outputs": [
    {
     "name": "stderr",
     "output_type": "stream",
     "text": [
      "                                                                                \r"
     ]
    }
   ],
   "source": [
    "responsi_df = spark.read.csv(\"Dataset/vehicles.csv\")"
   ]
  },
  {
   "cell_type": "markdown",
   "id": "46a50ce8",
   "metadata": {},
   "source": [
    "### Menampilkan DataFrame responsi_df di PySpark"
   ]
  },
  {
   "cell_type": "code",
   "execution_count": 3,
   "id": "2bf18381",
   "metadata": {},
   "outputs": [
    {
     "name": "stderr",
     "output_type": "stream",
     "text": [
      "24/12/20 06:49:00 WARN package: Truncated the string representation of a plan since it was too large. This behavior can be adjusted by setting 'spark.sql.debug.maxToStringFields'.\n"
     ]
    },
    {
     "name": "stdout",
     "output_type": "stream",
     "text": [
      "+----------+--------------------+--------------------+--------------------+-----+----+------------+-----+---------+---------+----+--------+------------+------------+----+-----+----+----+-----------+---------+-----------+------+-----+----+----+------------+\n",
      "|       _c0|                 _c1|                 _c2|                 _c3|  _c4| _c5|         _c6|  _c7|      _c8|      _c9|_c10|    _c11|        _c12|        _c13|_c14| _c15|_c16|_c17|       _c18|     _c19|       _c20|  _c21| _c22|_c23|_c24|        _c25|\n",
      "+----------+--------------------+--------------------+--------------------+-----+----+------------+-----+---------+---------+----+--------+------------+------------+----+-----+----+----+-----------+---------+-----------+------+-----+----+----+------------+\n",
      "|        id|                 url|              region|          region_url|price|year|manufacturer|model|condition|cylinders|fuel|odometer|title_status|transmission| VIN|drive|size|type|paint_color|image_url|description|county|state| lat|long|posting_date|\n",
      "|7222695916|https://prescott....|            prescott|https://prescott....| 6000|null|        null| null|     null|     null|null|    null|        null|        null|null| null|null|null|       null|     null|       null|  null|   az|null|null|        null|\n",
      "|7218891961|https://fayar.cra...|        fayetteville|https://fayar.cra...|11900|null|        null| null|     null|     null|null|    null|        null|        null|null| null|null|null|       null|     null|       null|  null|   ar|null|null|        null|\n",
      "|7221797935|https://keys.crai...|        florida keys|https://keys.crai...|21000|null|        null| null|     null|     null|null|    null|        null|        null|null| null|null|null|       null|     null|       null|  null|   fl|null|null|        null|\n",
      "|7222270760|https://worcester...|worcester / centr...|https://worcester...| 1500|null|        null| null|     null|     null|null|    null|        null|        null|null| null|null|null|       null|     null|       null|  null|   ma|null|null|        null|\n",
      "|7210384030|https://greensbor...|          greensboro|https://greensbor...| 4900|null|        null| null|     null|     null|null|    null|        null|        null|null| null|null|null|       null|     null|       null|  null|   nc|null|null|        null|\n",
      "|7222379453|https://hudsonval...|       hudson valley|https://hudsonval...| 1600|null|        null| null|     null|     null|null|    null|        null|        null|null| null|null|null|       null|     null|       null|  null|   ny|null|null|        null|\n",
      "|7221952215|https://hudsonval...|       hudson valley|https://hudsonval...| 1000|null|        null| null|     null|     null|null|    null|        null|        null|null| null|null|null|       null|     null|       null|  null|   ny|null|null|        null|\n",
      "|7220195662|https://hudsonval...|       hudson valley|https://hudsonval...|15995|null|        null| null|     null|     null|null|    null|        null|        null|null| null|null|null|       null|     null|       null|  null|   ny|null|null|        null|\n",
      "|7209064557|https://medford.c...|     medford-ashland|https://medford.c...| 5000|null|        null| null|     null|     null|null|    null|        null|        null|null| null|null|null|       null|     null|       null|  null|   or|null|null|        null|\n",
      "|7219485069|https://erie.crai...|                erie|https://erie.crai...| 3000|null|        null| null|     null|     null|null|    null|        null|        null|null| null|null|null|       null|     null|       null|  null|   pa|null|null|        null|\n",
      "|7218893038|https://elpaso.cr...|             el paso|https://elpaso.cr...|    0|null|        null| null|     null|     null|null|    null|        null|        null|null| null|null|null|       null|     null|       null|  null|   tx|null|null|        null|\n",
      "|7218325704|https://elpaso.cr...|             el paso|https://elpaso.cr...|    0|null|        null| null|     null|     null|null|    null|        null|        null|null| null|null|null|       null|     null|       null|  null|   tx|null|null|        null|\n",
      "|7217788283|https://elpaso.cr...|             el paso|https://elpaso.cr...|    0|null|        null| null|     null|     null|null|    null|        null|        null|null| null|null|null|       null|     null|       null|  null|   tx|null|null|        null|\n",
      "|7217147606|https://elpaso.cr...|             el paso|https://elpaso.cr...|    0|null|        null| null|     null|     null|null|    null|        null|        null|null| null|null|null|       null|     null|       null|  null|   tx|null|null|        null|\n",
      "|7209027818|https://elpaso.cr...|             el paso|https://elpaso.cr...|    0|null|        null| null|     null|     null|null|    null|        null|        null|null| null|null|null|       null|     null|       null|  null|   tx|null|null|        null|\n",
      "|7223509794|https://bellingha...|          bellingham|https://bellingha...|13995|null|        null| null|     null|     null|null|    null|        null|        null|null| null|null|null|       null|     null|       null|  null|   wa|null|null|        null|\n",
      "|7222753076|https://bellingha...|          bellingham|https://bellingha...|24999|null|        null| null|     null|     null|null|    null|        null|        null|null| null|null|null|       null|     null|       null|  null|   wa|null|null|        null|\n",
      "|7222206015|https://bellingha...|          bellingham|https://bellingha...|21850|null|        null| null|     null|     null|null|    null|        null|        null|null| null|null|null|       null|     null|       null|  null|   wa|null|null|        null|\n",
      "|7220030122|https://bellingha...|          bellingham|https://bellingha...|26850|null|        null| null|     null|     null|null|    null|        null|        null|null| null|null|null|       null|     null|       null|  null|   wa|null|null|        null|\n",
      "+----------+--------------------+--------------------+--------------------+-----+----+------------+-----+---------+---------+----+--------+------------+------------+----+-----+----+----+-----------+---------+-----------+------+-----+----+----+------------+\n",
      "only showing top 20 rows\n",
      "\n"
     ]
    }
   ],
   "source": [
    "responsi_df.show()"
   ]
  },
  {
   "cell_type": "markdown",
   "id": "003d1f37",
   "metadata": {},
   "source": [
    "### Menampilkan Informasi Skema Kolom DataFrame menggunakan PySpark"
   ]
  },
  {
   "cell_type": "code",
   "execution_count": 4,
   "id": "3ba3f05e",
   "metadata": {},
   "outputs": [
    {
     "name": "stdout",
     "output_type": "stream",
     "text": [
      "root\n",
      " |-- _c0: string (nullable = true)\n",
      " |-- _c1: string (nullable = true)\n",
      " |-- _c2: string (nullable = true)\n",
      " |-- _c3: string (nullable = true)\n",
      " |-- _c4: string (nullable = true)\n",
      " |-- _c5: string (nullable = true)\n",
      " |-- _c6: string (nullable = true)\n",
      " |-- _c7: string (nullable = true)\n",
      " |-- _c8: string (nullable = true)\n",
      " |-- _c9: string (nullable = true)\n",
      " |-- _c10: string (nullable = true)\n",
      " |-- _c11: string (nullable = true)\n",
      " |-- _c12: string (nullable = true)\n",
      " |-- _c13: string (nullable = true)\n",
      " |-- _c14: string (nullable = true)\n",
      " |-- _c15: string (nullable = true)\n",
      " |-- _c16: string (nullable = true)\n",
      " |-- _c17: string (nullable = true)\n",
      " |-- _c18: string (nullable = true)\n",
      " |-- _c19: string (nullable = true)\n",
      " |-- _c20: string (nullable = true)\n",
      " |-- _c21: string (nullable = true)\n",
      " |-- _c22: string (nullable = true)\n",
      " |-- _c23: string (nullable = true)\n",
      " |-- _c24: string (nullable = true)\n",
      " |-- _c25: string (nullable = true)\n",
      "\n"
     ]
    }
   ],
   "source": [
    "responsi_df.printSchema()"
   ]
  },
  {
   "cell_type": "markdown",
   "id": "35baf9da",
   "metadata": {},
   "source": [
    "### Menghapus baris yang mengandung null"
   ]
  },
  {
   "cell_type": "code",
   "execution_count": 5,
   "id": "18d11b40",
   "metadata": {},
   "outputs": [],
   "source": [
    "responsi_df = responsi_df.dropna()"
   ]
  },
  {
   "cell_type": "markdown",
   "id": "fb8e4e64",
   "metadata": {},
   "source": [
    "### Membaca file dengan header"
   ]
  },
  {
   "cell_type": "code",
   "execution_count": 6,
   "id": "356fa213",
   "metadata": {},
   "outputs": [
    {
     "name": "stderr",
     "output_type": "stream",
     "text": [
      "                                                                                \r"
     ]
    }
   ],
   "source": [
    "responsi_df_with_header = spark.read.csv(\"Dataset/vehicles.csv\", header=True, inferSchema=True)"
   ]
  },
  {
   "cell_type": "markdown",
   "id": "458b8946",
   "metadata": {},
   "source": [
    "### Menampilkan data"
   ]
  },
  {
   "cell_type": "code",
   "execution_count": 7,
   "id": "942fe52d",
   "metadata": {},
   "outputs": [
    {
     "name": "stdout",
     "output_type": "stream",
     "text": [
      "+----------+--------------------+--------------------+--------------------+-----+----+------------+--------------------+---------+------------+------+--------+------------+------------+-----------------+-----+---------+-----------+-----------+--------------------+--------------------+--------------------+--------------------+--------------------+--------------------+--------------------+\n",
      "|       _c0|                 _c1|                 _c2|                 _c3|  _c4| _c5|         _c6|                 _c7|      _c8|         _c9|  _c10|    _c11|        _c12|        _c13|             _c14| _c15|     _c16|       _c17|       _c18|                _c19|                _c20|                _c21|                _c22|                _c23|                _c24|                _c25|\n",
      "+----------+--------------------+--------------------+--------------------+-----+----+------------+--------------------+---------+------------+------+--------+------------+------------+-----------------+-----+---------+-----------+-----------+--------------------+--------------------+--------------------+--------------------+--------------------+--------------------+--------------------+\n",
      "|        id|                 url|              region|          region_url|price|year|manufacturer|               model|condition|   cylinders|  fuel|odometer|title_status|transmission|              VIN|drive|     size|       type|paint_color|           image_url|         description|              county|               state|                 lat|                long|        posting_date|\n",
      "|7311390113|https://bham.crai...|          birmingham|https://bham.crai...|24990|2007|        ford|super duty f-450 drw|     good|10 cylinders|   gas|   46463|       clean|   automatic|1FDXF46Y47EB23553|  rwd|full-size|      truck|      white|https://images.cr...|\"2007 Ford Super ...| blunt cut & labe...| RH vanity mirror...|    dual cup holders| (4) air register...| ashtray & cigar ...|\n",
      "|7311383338|https://bham.crai...|          birmingham|https://bham.crai...|26990|2008|   chevrolet|              cc4500|     good| 8 cylinders|   gas|  100921|       clean|   automatic|1GBE4C3G38F402998|  4wd|full-size|      truck|      white|https://images.cr...|\"2008 Chevrolet C...| anti-freeze prot...| oil pressure gau...| Vortec 8.1L MD g...| 325 hp (239 kw) ...|800 rpm. - Maximu...|\n",
      "|7311381690|https://bham.crai...|          birmingham|https://bham.crai...|24990|2007|        ford|super duty f-450 drw|     good|10 cylinders|   gas|   46463|       clean|   automatic|1FDXF46Y47EB23553|  rwd|full-size|      truck|      white|https://images.cr...|\"2007 Ford Super ...| blunt cut & labe...| RH vanity mirror...|    dual cup holders| (4) air register...| ashtray & cigar ...|\n",
      "|7307067889|https://bham.crai...|          birmingham|https://bham.crai...|30900|2015|   chevrolet|      silverado 1500|     good| 8 cylinders|   gas|  114800|       clean|   automatic|3GCUKSEC4FG336264|  4wd|full-size|      truck|     custom|https://images.cr...|\"2015 Chevrolet S...|900 Year: 2015 Ma...|800 Color: Cream ...| 5.3L EcoTec3 V8 ...| Direct Injection...| 383 lb-ft of tor...|\n",
      "|7307067844|https://bham.crai...|          birmingham|https://bham.crai...|24900|2015|   chevrolet|      silverado 1500|     good| 8 cylinders|   gas|  119569|       clean|   automatic|3GCPCREC2FG522274|  rwd|full-size|      truck|      white|https://images.cr...|\"2015 Chevrolet S...|900 Year: 2015 Ma...|569 Color: White ...| DIRECT INJECTION...| Dual-stage front...| seat-mounted sid...|\n",
      "|7306896595|https://bham.crai...|          birmingham|https://bham.crai...|29990|2007|        ford|super duty f-750 ...|     good| 8 cylinders|diesel|  124669|       clean|   automatic|3FRXX75U17V517746|  rwd|full-size|      truck|      white|https://images.cr...|\"2007 Ford Super ...| inner splash shi...|          trip meter|          volt meter|        oil pressure|        coolant temp|\n",
      "|7302320525|https://bham.crai...|          birmingham|https://bham.crai...| 3300|1994|         bmw|        318ic cabrio|     fair| 4 cylinders|   gas|  304000|       clean|      manual|WBABK6328RED15065|  rwd| mid-size|convertible|      black|https://images.cr...|\"Please read the ...| but top is tight...| however paint lo...| so no water ente...| but the Alpine r...| but the back end...|\n",
      "|7301843551|https://bham.crai...|          birmingham|https://bham.crai...|40000|2017|        ford|               f-150| like new| 6 cylinders|   gas|   44000|       clean|   automatic|1FTEW1CG4HFB04535|  rwd|full-size|      truck|       blue|https://images.cr...|\"2017 ford f150 l...|      running boards| heated and coole...|       4 USB outlets| 2 110v outlets 4...|      tinted windows|\n",
      "|7315085297|https://shoals.cr...|florence / muscle...|https://shoals.cr...|14900|1999|        jeep|            wrangler|     good| 6 cylinders|   gas|  140212|       clean|      manual|1J4FY19S0XP415571|  4wd|full-size|        SUV|      green|https://images.cr...|\"SOLID JEEP, lift...|               winch|               hitch|      LED headlights| new tires and wh...|  with a good smooth|\n",
      "|7305334481|https://huntsvill...|huntsville / decatur|https://huntsvill...|39950|2020|        jeep|            wrangler| like new| 4 cylinders|   gas|    2600|       clean|   automatic|1C4GJXAN7LW325096|  4wd|  compact|        SUV|       blue|https://images.cr...|\"2020 Jeep Wrangl...|  Mopar Remote Start| Mopar Trailer To...|        Decal Delete| Etc....  This Wr...| underneath is sp...|\n",
      "|7310115422|https://mobile.cr...|              mobile|https://mobile.cr...|23995|2013|        ford|               f-150|     good| 6 cylinders|   gas|  139863|       clean|   automatic|1FTFW1CTXDFA26970|  rwd|full-size|      truck|      green|https://images.cr...|\"2013 Ford F-150 ...|995  Year: 2013 M...|863 Stock #:A2697...|           voltmeter|        oil pressure| engine coolant temp|\n",
      "|7310115394|https://mobile.cr...|              mobile|https://mobile.cr...|36995|2015|   chevrolet|               tahoe|     good| 8 cylinders|   gas|   97917|       clean|   automatic|1GNSCCKC5FR134619|  rwd|full-size|        SUV|      black|https://images.cr...|\"2015 Chevrolet T...| programmableWarn...|     key-in-ignition| driver and right...|               power|    all express down|\n",
      "|7310115335|https://mobile.cr...|              mobile|https://mobile.cr...|35995|2017|   chevrolet|      silverado 1500|     good| 8 cylinders|   gas|   69815|       clean|   automatic|3GCPCREC3HG357306|  rwd|full-size|      truck|      white|https://images.cr...|\"2017 Chevrolet S...|995  Year: 2017 M...|815 Stock #:35730...| DIRECT INJECTION...|        frontAirbags| dual-stage front...|\n",
      "|7308314267|https://mobile.cr...|              mobile|https://mobile.cr...|25677|2017|      toyota|              tacoma| like new| 6 cylinders|   gas|  110112|       clean|   automatic|5TFAZ5CN6HX032128|  rwd| mid-size|      truck|      brown|https://images.cr...|\"This vehicle is ...| depending on spe...| overall conditio...| and your persona...| vehicle tag/titl...| or processing fe...|\n",
      "|7307695692|https://mobile.cr...|              mobile|https://mobile.cr...|29995|2016|         ram|                1500|     good| 8 cylinders|   gas|  135005|       clean|   automatic|1C6RR7YT1GS413040|  4wd|full-size|      truck|       grey|https://images.cr...|\"2016 RAM 1500 4W...|995  Year: 2016 M...|005 Stock #:41304...|  Front Vented Discs| Brake Assist and...| Driver And Passe...|\n",
      "|7307694952|https://mobile.cr...|              mobile|https://mobile.cr...|19995|2011|        ford|               f-150|     good| 8 cylinders|   gas|  103554|       clean|   automatic|1FTFW1EF2BFC73159|  4wd|full-size|      truck|       grey|https://images.cr...|\"2011 Ford F-150 ...|995  Year: 2011 M...|554 Stock #:C7315...|           voltmeter|        oil pressure| engine coolant temp|\n",
      "|7307067972|https://mobile.cr...|              mobile|https://mobile.cr...|30900|2015|   chevrolet|      silverado 1500|     good| 8 cylinders|   gas|  114800|       clean|   automatic|3GCUKSEC4FG336264|  4wd|full-size|      truck|     custom|https://images.cr...|\"2015 Chevrolet S...|900 Year: 2015 Ma...|800 Color: Cream ...| 5.3L EcoTec3 V8 ...| Direct Injection...| 383 lb-ft of tor...|\n",
      "|7307067838|https://mobile.cr...|              mobile|https://mobile.cr...|24900|2015|   chevrolet|      silverado 1500|     good| 8 cylinders|   gas|  119569|       clean|   automatic|3GCPCREC2FG522274|  rwd|full-size|      truck|      white|https://images.cr...|\"2015 Chevrolet S...|900 Year: 2015 Ma...|569 Color: White ...| DIRECT INJECTION...| Dual-stage front...| seat-mounted sid...|\n",
      "|7305854218|https://mobile.cr...|              mobile|https://mobile.cr...|27995|2013|        ford|               f-150|     good| 6 cylinders|   gas|  104253|       clean|   automatic|1FTFW1ETXDKF30763|  4wd|full-size|      truck|      white|https://images.cr...|\"2013 Ford F-150 ...|995  Year: 2013 M...|253 Stock #:F3076...|           voltmeter|        oil pressure| engine coolant temp|\n",
      "+----------+--------------------+--------------------+--------------------+-----+----+------------+--------------------+---------+------------+------+--------+------------+------------+-----------------+-----+---------+-----------+-----------+--------------------+--------------------+--------------------+--------------------+--------------------+--------------------+--------------------+\n",
      "only showing top 20 rows\n",
      "\n"
     ]
    }
   ],
   "source": [
    "responsi_df.show()"
   ]
  },
  {
   "cell_type": "markdown",
   "id": "007a73e2",
   "metadata": {},
   "source": [
    "### Menganti nama kolom "
   ]
  },
  {
   "cell_type": "code",
   "execution_count": 8,
   "id": "f2a48f0b",
   "metadata": {},
   "outputs": [],
   "source": [
    "responsi_df = responsi_df.toDF(\"id\",\"url\",\"region\",\"region_url\",\"price\",\"year\",\"manufactur\",\"model\",\"condition\",\"cylinders\", \"fuel\", \"odometer\", \"title_status\", \"transmission\", \"vin\", \"drive\", \"size\", \"type\",\"paint_color\",\"image_url\",\"description\",\"country\",\"state\",\"lat\",\"long\",\"posting_date\")  "
   ]
  },
  {
   "cell_type": "markdown",
   "id": "571523a8",
   "metadata": {},
   "source": [
    "### Menampilkan data yang sudah diganti kolomnya"
   ]
  },
  {
   "cell_type": "code",
   "execution_count": 9,
   "id": "34d066a6",
   "metadata": {},
   "outputs": [
    {
     "name": "stdout",
     "output_type": "stream",
     "text": [
      "root\n",
      " |-- id: string (nullable = true)\n",
      " |-- url: string (nullable = true)\n",
      " |-- region: string (nullable = true)\n",
      " |-- region_url: string (nullable = true)\n",
      " |-- price: string (nullable = true)\n",
      " |-- year: string (nullable = true)\n",
      " |-- manufactur: string (nullable = true)\n",
      " |-- model: string (nullable = true)\n",
      " |-- condition: string (nullable = true)\n",
      " |-- cylinders: string (nullable = true)\n",
      " |-- fuel: string (nullable = true)\n",
      " |-- odometer: string (nullable = true)\n",
      " |-- title_status: string (nullable = true)\n",
      " |-- transmission: string (nullable = true)\n",
      " |-- vin: string (nullable = true)\n",
      " |-- drive: string (nullable = true)\n",
      " |-- size: string (nullable = true)\n",
      " |-- type: string (nullable = true)\n",
      " |-- paint_color: string (nullable = true)\n",
      " |-- image_url: string (nullable = true)\n",
      " |-- description: string (nullable = true)\n",
      " |-- country: string (nullable = true)\n",
      " |-- state: string (nullable = true)\n",
      " |-- lat: string (nullable = true)\n",
      " |-- long: string (nullable = true)\n",
      " |-- posting_date: string (nullable = true)\n",
      "\n"
     ]
    }
   ],
   "source": [
    "responsi_df.printSchema()"
   ]
  },
  {
   "cell_type": "markdown",
   "id": "22b94220",
   "metadata": {},
   "source": [
    "### Seleksi data yang akan ditampilkan"
   ]
  },
  {
   "cell_type": "code",
   "execution_count": 10,
   "id": "d755c51a",
   "metadata": {},
   "outputs": [
    {
     "name": "stdout",
     "output_type": "stream",
     "text": [
      "+------------+-----+\n",
      "|  manufactur|price|\n",
      "+------------+-----+\n",
      "|manufacturer|price|\n",
      "|        ford|24990|\n",
      "|   chevrolet|26990|\n",
      "|        ford|24990|\n",
      "|   chevrolet|30900|\n",
      "|   chevrolet|24900|\n",
      "|        ford|29990|\n",
      "|         bmw| 3300|\n",
      "|        ford|40000|\n",
      "|        jeep|14900|\n",
      "+------------+-----+\n",
      "only showing top 10 rows\n",
      "\n"
     ]
    }
   ],
   "source": [
    "responsi_df.select(\"manufactur\",\"price\").show(10)"
   ]
  },
  {
   "cell_type": "markdown",
   "id": "db3aa485",
   "metadata": {},
   "source": [
    "### Menghitung Nilai rata-rata"
   ]
  },
  {
   "cell_type": "code",
   "execution_count": 28,
   "id": "209c84d3",
   "metadata": {},
   "outputs": [
    {
     "name": "stderr",
     "output_type": "stream",
     "text": [
      "[Stage 35:===================================================>     (9 + 1) / 10]\r"
     ]
    },
    {
     "name": "stdout",
     "output_type": "stream",
     "text": [
      "+-------------+------------------+\n",
      "|   manufactur|        avg(price)|\n",
      "+-------------+------------------+\n",
      "|   mitsubishi|6238.0526315789475|\n",
      "|        lexus| 15069.47619047619|\n",
      "|       toyota|11984.212389380531|\n",
      "|     chrysler|        12680.4375|\n",
      "|      lincoln|18009.105263157893|\n",
      "|         audi|15019.603773584906|\n",
      "|          bmw|16842.383561643837|\n",
      "|         jeep|17307.123456790123|\n",
      "|        dodge|14780.338028169013|\n",
      "|        rover|18655.454545454544|\n",
      "|      hyundai|           11226.7|\n",
      "|         ford|26493.635174418603|\n",
      "|          ram|25666.152985074626|\n",
      "|          kia|           9746.68|\n",
      "|mercedes-benz|20584.739130434784|\n",
      "|      porsche|50913.142857142855|\n",
      "|    chevrolet|22971.118556701033|\n",
      "|        honda|10169.084210526316|\n",
      "|   volkswagen| 10244.69642857143|\n",
      "|        acura|          12309.25|\n",
      "+-------------+------------------+\n",
      "only showing top 20 rows\n",
      "\n"
     ]
    },
    {
     "name": "stderr",
     "output_type": "stream",
     "text": [
      "                                                                                \r"
     ]
    }
   ],
   "source": [
    "responsi_df.groupBy(\"manufactur\").agg({\n",
    "'price':'avg'\n",
    "\n",
    "} ).show(20)"
   ]
  },
  {
   "cell_type": "markdown",
   "id": "673afa49",
   "metadata": {},
   "source": [
    "### Menampilkan data pada kolom kondisi"
   ]
  },
  {
   "cell_type": "code",
   "execution_count": 12,
   "id": "05ec725a",
   "metadata": {},
   "outputs": [
    {
     "name": "stdout",
     "output_type": "stream",
     "text": [
      "+---------+\n",
      "|condition|\n",
      "+---------+\n",
      "|condition|\n",
      "|     good|\n",
      "|     good|\n",
      "|     good|\n",
      "|     good|\n",
      "|     good|\n",
      "|     good|\n",
      "|     fair|\n",
      "| like new|\n",
      "|     good|\n",
      "+---------+\n",
      "only showing top 10 rows\n",
      "\n"
     ]
    }
   ],
   "source": [
    "responsi_df.select(\"condition\").show(10)"
   ]
  },
  {
   "cell_type": "markdown",
   "id": "afc8e47f",
   "metadata": {},
   "source": [
    "### Menampilkan model yang memiliki kondisi bagus sekali (Excellent)"
   ]
  },
  {
   "cell_type": "code",
   "execution_count": 13,
   "id": "b2c10f1e",
   "metadata": {},
   "outputs": [],
   "source": [
    "excellent_models = responsi_df.filter(responsi_df[\"condition\"] == \"excellent\").select(\"condition\",\"model\",\"price\")"
   ]
  },
  {
   "cell_type": "code",
   "execution_count": 14,
   "id": "d1a1e26a",
   "metadata": {},
   "outputs": [
    {
     "name": "stdout",
     "output_type": "stream",
     "text": [
      "+---------+--------------+------+\n",
      "|condition|         model| price|\n",
      "+---------+--------------+------+\n",
      "|excellent|         m805i|104900|\n",
      "|excellent|tucson limited| 23995|\n",
      "|excellent|            x1| 27995|\n",
      "|excellent| rx350 f sport| 23995|\n",
      "|excellent|       aviator| 62995|\n",
      "|excellent|            x1| 27995|\n",
      "|excellent|       aviator| 62995|\n",
      "|excellent| rx350 f sport| 23995|\n",
      "|excellent|           mkt| 23500|\n",
      "|excellent|         f-150| 26995|\n",
      "+---------+--------------+------+\n",
      "only showing top 10 rows\n",
      "\n"
     ]
    }
   ],
   "source": [
    "excellent_models.show(10)"
   ]
  },
  {
   "cell_type": "markdown",
   "id": "438d5328",
   "metadata": {},
   "source": [
    "### Melakukan filter untuk menampilkan kondisi \"like new\" beserta harga"
   ]
  },
  {
   "cell_type": "code",
   "execution_count": 15,
   "id": "6d37d5fc",
   "metadata": {},
   "outputs": [
    {
     "name": "stdout",
     "output_type": "stream",
     "text": [
      "+---------+----------------+-----+\n",
      "|condition|           model|price|\n",
      "+---------+----------------+-----+\n",
      "| like new|           f-150|40000|\n",
      "| like new|        wrangler|39950|\n",
      "| like new|          tacoma|25677|\n",
      "| like new|charger sxt plus|24999|\n",
      "| like new|          acadia|32129|\n",
      "| like new|   grand caravan|18758|\n",
      "| like new|         equinox|21598|\n",
      "| like new|     terrain slt|23999|\n",
      "| like new|         equinox|21597|\n",
      "| like new|            1500|31886|\n",
      "+---------+----------------+-----+\n",
      "only showing top 10 rows\n",
      "\n"
     ]
    }
   ],
   "source": [
    "# Filter model dengan condition 'like new'\n",
    "like_new_models = responsi_df.filter(responsi_df[\"condition\"] == \"like new\").select(\"condition\",\"model\",\"price\")\n",
    "\n",
    "# Menampilkan hasil\n",
    "like_new_models.show(10)\n"
   ]
  },
  {
   "cell_type": "markdown",
   "id": "355a8fe1",
   "metadata": {},
   "source": [
    "### Menampilkan model , kondisi dan harga"
   ]
  },
  {
   "cell_type": "code",
   "execution_count": 16,
   "id": "de829cce",
   "metadata": {},
   "outputs": [
    {
     "name": "stderr",
     "output_type": "stream",
     "text": [
      "[Stage 12:>                                                         (0 + 1) / 1]\r"
     ]
    },
    {
     "name": "stdout",
     "output_type": "stream",
     "text": [
      "+----------+---------+-----+\n",
      "|manufactur|condition|price|\n",
      "+----------+---------+-----+\n",
      "|    toyota| like new|25677|\n",
      "|    toyota| like new|34996|\n",
      "|    toyota| like new|22367|\n",
      "|    toyota|     good| 8500|\n",
      "|    toyota|excellent|    0|\n",
      "|    toyota|excellent|19995|\n",
      "|    toyota| like new|29469|\n",
      "|    toyota|      new|    0|\n",
      "|    toyota|excellent|26900|\n",
      "|    toyota| like new| 2495|\n",
      "+----------+---------+-----+\n",
      "only showing top 10 rows\n",
      "\n"
     ]
    },
    {
     "name": "stderr",
     "output_type": "stream",
     "text": [
      "                                                                                \r"
     ]
    }
   ],
   "source": [
    "toyota_countries = responsi_df.filter(responsi_df[\"manufactur\"] == \"toyota\").select(\"manufactur\",\"condition\",\"price\")\n",
    "\n",
    "# Menampilkan hasil\n",
    "toyota_countries.show(10)\n"
   ]
  },
  {
   "cell_type": "code",
   "execution_count": 17,
   "id": "6b7cce9a",
   "metadata": {},
   "outputs": [
    {
     "name": "stderr",
     "output_type": "stream",
     "text": [
      "                                                                                \r"
     ]
    },
    {
     "data": {
      "text/plain": [
       "3640"
      ]
     },
     "execution_count": 17,
     "metadata": {},
     "output_type": "execute_result"
    }
   ],
   "source": [
    "responsi_df.count()"
   ]
  },
  {
   "cell_type": "code",
   "execution_count": 33,
   "id": "b9114f3d",
   "metadata": {},
   "outputs": [
    {
     "name": "stderr",
     "output_type": "stream",
     "text": [
      "[Stage 41:===================================================>     (9 + 1) / 10]\r"
     ]
    },
    {
     "name": "stdout",
     "output_type": "stream",
     "text": [
      "+---------+----------+-----+\n",
      "|condition|manufactur|price|\n",
      "+---------+----------+-----+\n",
      "|excellent|      ford|    0|\n",
      "|excellent| chevrolet|    0|\n",
      "|excellent| chevrolet|    0|\n",
      "|excellent| chevrolet|    0|\n",
      "|excellent|      audi|    0|\n",
      "|excellent| chevrolet|    0|\n",
      "|excellent|      audi|    0|\n",
      "|excellent| chevrolet|    0|\n",
      "|excellent|       gmc|    0|\n",
      "|excellent|    subaru|    0|\n",
      "|excellent|    subaru|    0|\n",
      "|excellent|      ford|    0|\n",
      "|excellent|      ford|    0|\n",
      "|excellent|      ford|    0|\n",
      "|excellent|      ford|    0|\n",
      "|excellent|       ram|    0|\n",
      "|excellent| chevrolet|    0|\n",
      "|excellent|mitsubishi|    0|\n",
      "|excellent|mitsubishi|    0|\n",
      "|excellent|    toyota|    0|\n",
      "+---------+----------+-----+\n",
      "only showing top 20 rows\n",
      "\n"
     ]
    },
    {
     "name": "stderr",
     "output_type": "stream",
     "text": [
      "                                                                                \r"
     ]
    }
   ],
   "source": [
    "from pyspark.sql.functions import col\n",
    "\n",
    "responsi_df.filter(col(\"condition\") == \"excellent\") \\\n",
    "    .select(\"condition\", \"manufactur\", \"price\") \\\n",
    "    .orderBy(col(\"price\").asc()) \\\n",
    "    .show(20)"
   ]
  },
  {
   "cell_type": "code",
   "execution_count": 34,
   "id": "9a2be4e1",
   "metadata": {},
   "outputs": [
    {
     "name": "stderr",
     "output_type": "stream",
     "text": [
      "                                                                                \r"
     ]
    },
    {
     "data": {
      "text/plain": [
       "251"
      ]
     },
     "execution_count": 34,
     "metadata": {},
     "output_type": "execute_result"
    }
   ],
   "source": [
    "responsi_df.filter(col(\"price\") == 0).count()"
   ]
  },
  {
   "cell_type": "markdown",
   "id": "2dd096a5",
   "metadata": {},
   "source": [
    "### Menampilkan Deskripsi dari kolom harga "
   ]
  },
  {
   "cell_type": "code",
   "execution_count": 35,
   "id": "24802e70",
   "metadata": {},
   "outputs": [
    {
     "name": "stderr",
     "output_type": "stream",
     "text": [
      "[Stage 45:===================================================>     (9 + 1) / 10]\r"
     ]
    },
    {
     "name": "stdout",
     "output_type": "stream",
     "text": [
      "+-------+------------------+\n",
      "|summary|             price|\n",
      "+-------+------------------+\n",
      "|  count|              3640|\n",
      "|   mean|20653.087402049427|\n",
      "| stddev|15880.484534919224|\n",
      "|    min|                  |\n",
      "|    max|             price|\n",
      "+-------+------------------+\n",
      "\n"
     ]
    },
    {
     "name": "stderr",
     "output_type": "stream",
     "text": [
      "                                                                                \r"
     ]
    }
   ],
   "source": [
    "responsi_df.describe(\"price\").show()"
   ]
  },
  {
   "cell_type": "markdown",
   "id": "f2428968",
   "metadata": {},
   "source": [
    "##### Cara Memeriksa dan mengatasi data kosong dalam kolom price"
   ]
  },
  {
   "cell_type": "code",
   "execution_count": 37,
   "id": "77dea81f",
   "metadata": {},
   "outputs": [
    {
     "name": "stderr",
     "output_type": "stream",
     "text": [
      "[Stage 53:==============================================>           (4 + 1) / 5]\r"
     ]
    },
    {
     "name": "stdout",
     "output_type": "stream",
     "text": [
      "+---+---+------+----------+-----+----+----------+-----+---------+---------+----+--------+------------+------------+---+-----+----+----+-----------+---------+-----------+-------+-----+---+----+------------+\n",
      "| id|url|region|region_url|price|year|manufactur|model|condition|cylinders|fuel|odometer|title_status|transmission|vin|drive|size|type|paint_color|image_url|description|country|state|lat|long|posting_date|\n",
      "+---+---+------+----------+-----+----+----------+-----+---------+---------+----+--------+------------+------------+---+-----+----+----+-----------+---------+-----------+-------+-----+---+----+------------+\n",
      "+---+---+------+----------+-----+----+----------+-----+---------+---------+----+--------+------------+------------+---+-----+----+----+-----------+---------+-----------+-------+-----+---+----+------------+\n",
      "\n"
     ]
    },
    {
     "name": "stderr",
     "output_type": "stream",
     "text": [
      "                                                                                \r"
     ]
    }
   ],
   "source": [
    "responsi_df.filter(col(\"price\").isNull()).show(30)"
   ]
  },
  {
   "cell_type": "markdown",
   "id": "34f52e70",
   "metadata": {},
   "source": [
    "##### Periksa jumlah data dengan filter untuk melihat jumlah dari kondisi mobil tbekas"
   ]
  },
  {
   "cell_type": "code",
   "execution_count": 38,
   "id": "5802265c",
   "metadata": {},
   "outputs": [
    {
     "name": "stderr",
     "output_type": "stream",
     "text": [
      "[Stage 54:===================================================>     (9 + 1) / 10]\r"
     ]
    },
    {
     "name": "stdout",
     "output_type": "stream",
     "text": [
      "+---------+-----+\n",
      "|condition|count|\n",
      "+---------+-----+\n",
      "|      new|   16|\n",
      "|excellent| 2048|\n",
      "| like new|  367|\n",
      "|     good|  797|\n",
      "|     fair|   17|\n",
      "|condition|    1|\n",
      "|     2006|  102|\n",
      "|   35 mpg|  148|\n",
      "|    E350 |   71|\n",
      "|    f250 |   71|\n",
      "|  salvage|    2|\n",
      "+---------+-----+\n",
      "\n"
     ]
    },
    {
     "name": "stderr",
     "output_type": "stream",
     "text": [
      "                                                                                \r"
     ]
    }
   ],
   "source": [
    "responsi_df.groupBy(\"condition\").count().show()"
   ]
  },
  {
   "cell_type": "code",
   "execution_count": 46,
   "id": "eb2e66cc",
   "metadata": {},
   "outputs": [
    {
     "name": "stderr",
     "output_type": "stream",
     "text": [
      "[Stage 65:===================================================>     (9 + 1) / 10]\r"
     ]
    },
    {
     "name": "stdout",
     "output_type": "stream",
     "text": [
      "+---------+----------+-----+\n",
      "|condition|manufactur|price|\n",
      "+---------+----------+-----+\n",
      "|      new|    toyota|    0|\n",
      "|excellent|      ford|16995|\n",
      "|excellent|      ford|26995|\n",
      "|excellent|       ram|    0|\n",
      "|excellent|     honda|14995|\n",
      "|excellent| chevrolet|10995|\n",
      "| like new|    nissan|22794|\n",
      "| like new|     dodge|18760|\n",
      "|     good|      jeep|14900|\n",
      "| like new|    nissan| 7474|\n",
      "| like new|      ford|27999|\n",
      "| like new|       ram|39495|\n",
      "|excellent|    toyota|    0|\n",
      "|excellent|       bmw| 2495|\n",
      "|excellent| chevrolet|13900|\n",
      "| like new|     dodge|18758|\n",
      "|excellent|      ford|23500|\n",
      "|excellent|      ford|24950|\n",
      "|excellent|      ford| 7500|\n",
      "|excellent|     honda| 3150|\n",
      "+---------+----------+-----+\n",
      "only showing top 20 rows\n",
      "\n"
     ]
    },
    {
     "name": "stderr",
     "output_type": "stream",
     "text": [
      "                                                                                \r"
     ]
    }
   ],
   "source": [
    "responsi_df.select(\"condition\",\"manufactur\",\"price\").distinct().show()"
   ]
  },
  {
   "cell_type": "code",
   "execution_count": 47,
   "id": "d6878fe4",
   "metadata": {},
   "outputs": [
    {
     "name": "stderr",
     "output_type": "stream",
     "text": [
      "[Stage 68:===================================================>     (9 + 1) / 10]\r"
     ]
    },
    {
     "name": "stdout",
     "output_type": "stream",
     "text": [
      "+---------+----------+-----+\n",
      "|condition|manufactur|price|\n",
      "+---------+----------+-----+\n",
      "|excellent|      ford|16995|\n",
      "|excellent|      ford|26995|\n",
      "|excellent|     honda|14995|\n",
      "|excellent| chevrolet|10995|\n",
      "| like new|    nissan|22794|\n",
      "| like new|     dodge|18760|\n",
      "|     good|      jeep|14900|\n",
      "| like new|    nissan| 7474|\n",
      "| like new|      ford|27999|\n",
      "| like new|       ram|39495|\n",
      "|excellent|       bmw| 2495|\n",
      "|excellent| chevrolet|13900|\n",
      "| like new|     dodge|18758|\n",
      "|excellent|      ford|23500|\n",
      "|excellent|      ford|24950|\n",
      "|excellent|      ford| 7500|\n",
      "|excellent|     honda| 3150|\n",
      "| like new|       gmc|32129|\n",
      "| like new|     honda|43430|\n",
      "| like new|       kia| 9995|\n",
      "+---------+----------+-----+\n",
      "only showing top 20 rows\n",
      "\n"
     ]
    },
    {
     "name": "stderr",
     "output_type": "stream",
     "text": [
      "                                                                                \r"
     ]
    }
   ],
   "source": [
    "responsi_df.filter(col(\"price\") > 0) \\\n",
    "    .select(\"condition\", \"manufactur\", \"price\") \\\n",
    "    .distinct() \\\n",
    "    .show()"
   ]
  },
  {
   "cell_type": "code",
   "execution_count": 48,
   "id": "7913659a",
   "metadata": {},
   "outputs": [
    {
     "name": "stderr",
     "output_type": "stream",
     "text": [
      "[Stage 71:===================================================>     (9 + 1) / 10]\r"
     ]
    },
    {
     "name": "stdout",
     "output_type": "stream",
     "text": [
      "+---------+------------------+------+\n",
      "|condition|        manufactur| price|\n",
      "+---------+------------------+------+\n",
      "|    f250 | Nissan Silverado |  3500|\n",
      "|excellent|         chevrolet|     1|\n",
      "|excellent|              ford|     1|\n",
      "|excellent|               ram|     1|\n",
      "|     good|              audi|  1000|\n",
      "|excellent|             rover| 10000|\n",
      "|excellent|        land rover| 10000|\n",
      "|     good|         chevrolet| 10000|\n",
      "|excellent|               bmw| 10250|\n",
      "|     good|         chevrolet| 10290|\n",
      "|excellent|               kia| 10400|\n",
      "|excellent|               bmw|104900|\n",
      "|     good|            toyota| 10495|\n",
      "|     good|             dodge| 10497|\n",
      "|excellent|              ford| 10499|\n",
      "|excellent|              mini| 10500|\n",
      "|excellent|               ram| 10500|\n",
      "|excellent|             honda| 10500|\n",
      "|excellent|             lexus| 10500|\n",
      "|excellent|          cadillac| 10500|\n",
      "+---------+------------------+------+\n",
      "only showing top 20 rows\n",
      "\n"
     ]
    },
    {
     "name": "stderr",
     "output_type": "stream",
     "text": [
      "                                                                                \r"
     ]
    }
   ],
   "source": [
    "from pyspark.sql.functions import col\n",
    "\n",
    "responsi_df.filter((col(\"price\") > 0)) \\\n",
    "    .select(\"condition\", \"manufactur\", \"price\") \\\n",
    "    .distinct() \\\n",
    "    .orderBy(col(\"price\").asc()) \\\n",
    "    .show()"
   ]
  },
  {
   "cell_type": "markdown",
   "id": "13716d55",
   "metadata": {},
   "source": [
    "### Memfilter data untuk menampilkan data harga = 10500 dan menampilkan manufactur excelent (Luar Biasa)"
   ]
  },
  {
   "cell_type": "code",
   "execution_count": 52,
   "id": "7381e185",
   "metadata": {},
   "outputs": [
    {
     "name": "stderr",
     "output_type": "stream",
     "text": [
      "[Stage 77:===================================================>     (9 + 1) / 10]\r"
     ]
    },
    {
     "name": "stdout",
     "output_type": "stream",
     "text": [
      "+---------+----------+-----+\n",
      "|condition|manufactur|price|\n",
      "+---------+----------+-----+\n",
      "|excellent|     honda|10500|\n",
      "|excellent|      mini|10500|\n",
      "|excellent|       ram|10500|\n",
      "|excellent|  cadillac|10500|\n",
      "|excellent|     lexus|10500|\n",
      "|excellent| chevrolet|10500|\n",
      "+---------+----------+-----+\n",
      "\n"
     ]
    },
    {
     "name": "stderr",
     "output_type": "stream",
     "text": [
      "                                                                                \r"
     ]
    }
   ],
   "source": [
    "from pyspark.sql.functions import col\n",
    "\n",
    "responsi_df.filter((col(\"condition\") == \"excellent\") & (col(\"price\") == 10500)) \\\n",
    "    .select(\"condition\", \"manufactur\", \"price\") \\\n",
    "    .orderBy(col(\"price\").asc()) \\\n",
    "    .show(20)"
   ]
  },
  {
   "cell_type": "code",
   "execution_count": null,
   "id": "3be0421b",
   "metadata": {},
   "outputs": [],
   "source": []
  }
 ],
 "metadata": {
  "kernelspec": {
   "display_name": "Python 3 (ipykernel)",
   "language": "python",
   "name": "python3"
  },
  "language_info": {
   "codemirror_mode": {
    "name": "ipython",
    "version": 3
   },
   "file_extension": ".py",
   "mimetype": "text/x-python",
   "name": "python",
   "nbconvert_exporter": "python",
   "pygments_lexer": "ipython3",
   "version": "3.10.12"
  }
 },
 "nbformat": 4,
 "nbformat_minor": 5
}
